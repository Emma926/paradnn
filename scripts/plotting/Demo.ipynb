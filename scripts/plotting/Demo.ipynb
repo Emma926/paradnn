{
 "cells": [
  {
   "cell_type": "code",
   "execution_count": null,
   "metadata": {},
   "outputs": [],
   "source": [
    "%matplotlib inline\n",
    "%load_ext autoreload\n",
    "%autoreload 2\n",
    "\n",
    "from plotting_utils import *\n",
    "from ml_utils import *\n",
    "\n",
    "matplotlib.rcParams['figure.dpi']= 150\n",
    "\n",
    "colors = sns.color_palette(\"hls\", n_colors=11)"
   ]
  },
  {
   "cell_type": "markdown",
   "metadata": {},
   "source": [
    "# Heatmap of FC models Performance"
   ]
  },
  {
   "cell_type": "code",
   "execution_count": null,
   "metadata": {},
   "outputs": [],
   "source": [
    "r = {'node':[32, 64, 128, 256, 512, 1024, 2048, 4096, 8192],\n",
    "     'layer': [4],\n",
    "     'input':[2000],\n",
    "     'output':[1000],\n",
    "     'bs':[64, 128, 256, 512, 1024, 2048, 4096, 8192, 16384]}\n",
    "\n",
    "# replace your json file name here\n",
    "d = get_data('fc_cpu_float32')\n",
    "get_range(d['labels'])\n",
    "d1 = filter_data(r, d)\n",
    "f = make_heatmap(d1['labels'], d1['flops'],\n",
    "                dim=['node', 'bs','layer'],\n",
    "                title=r'FLOPS')"
   ]
  },
  {
   "cell_type": "markdown",
   "metadata": {},
   "source": [
    "# Linear Regression Weights"
   ]
  },
  {
   "cell_type": "code",
   "execution_count": null,
   "metadata": {
    "scrolled": true
   },
   "outputs": [],
   "source": [
    "f = regression(d['labels'], d['flops'],\n",
    "               title = r'FC: LR weights to $\\bf{FLOPS\\%}$')"
   ]
  },
  {
   "cell_type": "markdown",
   "metadata": {},
   "source": [
    "# Speedup of TPU over GPU"
   ]
  },
  {
   "cell_type": "code",
   "execution_count": null,
   "metadata": {},
   "outputs": [],
   "source": [
    "dt = get_data('tpu_fc')\n",
    "dg = get_data('gpu_fc')\n",
    "get_range(dg['labels'])\n",
    "\n",
    "labels, speedups = get_speedup(dt['labels'], dt['example_per_sec'], \n",
    "                               dg['labels'], dg['example_per_sec'])\n",
    "f = regression(labels, speedups, plot=False, order=1, title='FC Speedup TPU/GPU')\n"
   ]
  },
  {
   "cell_type": "code",
   "execution_count": null,
   "metadata": {},
   "outputs": [],
   "source": [
    "r = {'node':[256, 512, 1024, 2048, 4096, 8192], 'bs':[512, 1024, 2048, 4096, 8192, 16384]}\n",
    "dt = filter_data(r, dt)\n",
    "dg = filter_data(r, dg)\n",
    "\n",
    "f = speedup_params(dt['labels'], dt['example_per_sec'], \n",
    "               dg['labels'], dg['example_per_sec'], dg['params'],  marker='.', lim=[0.1, 10],\n",
    "                   legend_box=(1,0.5),\n",
    "               color='bs', title= 'FC: TPU/GPU')\n",
    "\n",
    "\n",
    "f = speedup_params(dt['labels'], dt['example_per_sec'], \n",
    "               dg['labels'], dg['example_per_sec'], dg['params'], marker='.', lim=[0.1, 10],\n",
    "                   legend_box=(1,0.5),\n",
    "               color='node', title= 'FC: TPU/GPU')\n",
    "#f.savefig('savedfig/xcompare-fc-speedup_tpu_gpu_node.pdf', bbox_inches='tight')\n"
   ]
  },
  {
   "cell_type": "markdown",
   "metadata": {},
   "source": [
    "# Speedup of GPU over CPU"
   ]
  },
  {
   "cell_type": "code",
   "execution_count": null,
   "metadata": {},
   "outputs": [],
   "source": [
    "dc = get_data('fc_cpu_float32')\n",
    "dg = get_data('gpu_fc')\n",
    "get_range(dg['labels'])\n",
    "get_range(dc['labels'])\n",
    "\n",
    "labels, speedups = get_speedup(dg['labels'], dg['example_per_sec'], \n",
    "                               dc['labels'], dc['example_per_sec'])\n",
    "f = regression(labels, speedups, plot=False, order=1, title='FC Speedup GPU/CPU')\n",
    "\n"
   ]
  },
  {
   "cell_type": "code",
   "execution_count": null,
   "metadata": {},
   "outputs": [],
   "source": [
    "\n",
    "f = speedup_params(dg['labels'], dg['example_per_sec'], \n",
    "               dc['labels'], dc['example_per_sec'], dc['params'],  marker='.', lim=[0.1, 10],\n",
    "                   legend_box=(1,0.5),\n",
    "               color='node', title= 'FC: GPU/CPU')\n"
   ]
  },
  {
   "cell_type": "markdown",
   "metadata": {},
   "source": [
    "# Roofline with FC models"
   ]
  },
  {
   "cell_type": "code",
   "execution_count": null,
   "metadata": {},
   "outputs": [],
   "source": [
    "color_dim = 'node'\n",
    "d = get_data('fc_trace_10sec')\n",
    "get_range(d['labels'])\n",
    "d = filter_data({'bs':[512, 1024, 2048, 4096, 8192, 16384], 'node':[128, 512, 2048, 8192]}, d)\n",
    "f, ax = plt.subplots(figsize=(3,3))\n",
    "f, ax, m = plot_roofline(f, ax, d, tpu_peak=180e3, membdw_peak=2400, color_dim=color_dim, title='')\n",
    "\n",
    "# sort the legend\n",
    "handles, ls = ax.get_legend_handles_labels()\n",
    "ls = [int(i) for i in ls if i.isdigit()] \n",
    "ls, handles = zip(*sorted(zip(ls, handles), key=lambda t: t[0]))\n",
    "ls = [color_dim + '-' + str(i) for i in ls]\n",
    "ax.legend(handles, ls, frameon=True, fontsize=8)\n"
   ]
  },
  {
   "cell_type": "code",
   "execution_count": null,
   "metadata": {},
   "outputs": [],
   "source": [
    "color_dim = 'bs'\n",
    "d = get_data('fc_trace_10sec')\n",
    "get_range(d['labels'])\n",
    "d = filter_data({'bs':[512, 1024, 2048, 4096, 8192, 16384], 'node':[128, 512, 2048, 8192]}, d)\n",
    "f, ax = plt.subplots(figsize=(3,3))\n",
    "f, ax, m = plot_roofline(f, ax, d, tpu_peak=180e3, membdw_peak=2400, color_dim=color_dim, title='')\n",
    "\n",
    "# sort the legend\n",
    "handles, ls = ax.get_legend_handles_labels()\n",
    "ls = [int(i) for i in ls if i.isdigit()] \n",
    "ls, handles = zip(*sorted(zip(ls, handles), key=lambda t: t[0]))\n",
    "ls = [color_dim + '-' + str(i) for i in ls]\n",
    "ax.legend(handles, ls, frameon=True, fontsize=8)\n"
   ]
  },
  {
   "cell_type": "code",
   "execution_count": null,
   "metadata": {},
   "outputs": [],
   "source": [
    "d = get_data('fc_trace_10sec_opbreakdown')\n",
    "d = remove_while_op(d)\n",
    "f, ax = plt.subplots(figsize=(3,3))\n",
    "\n",
    "color_map = {u'cross-replica-sum': (0.8287999999999999, 0.86, 0.33999999999999997), \n",
    "             u'output fusion': (0.33999999999999997, 0.86, 0.3712),\n",
    "             u'matmul': (0.33999999999999997, 0.86, 0.3712),\n",
    "             u'loop fusion': (0.33999999999999997, 0.8287999999999999, 0.86), \n",
    "             u'non-fusion elementwise':  (0.86, 0.3712, 0.33999999999999997)}\n",
    "\n",
    "f, ax, m = plot_roofline(f, ax, d, tpu_peak=180e3, membdw_peak=2400, color_map=color_map, color_dim='op', thre=1, title='')\n",
    "m = color_map\n",
    "mycolors = sns.color_palette(\"hls\", n_colors=len(m)+2)\n",
    "\n",
    "\n",
    "handles, ls = ax.get_legend_handles_labels()\n",
    "ls = [i.replace('non-fusion elementwise', 'RMSProp').replace('cross-replica-sum', 'CrossReplicaSum') for i in ls]\n",
    "\n",
    "ax.legend(handles, ls, frameon=True, fontsize=12, ncol=1, bbox_to_anchor=(1.01,  0.7))\n"
   ]
  },
  {
   "cell_type": "markdown",
   "metadata": {},
   "source": [
    "# RNN CPU FLOPS Utilization"
   ]
  },
  {
   "cell_type": "code",
   "execution_count": null,
   "metadata": {},
   "outputs": [],
   "source": [
    "d = get_data('rnn_cpu_float32')\n",
    "peak = 4 # Please modify it to be the estimated peak GFlops/sec of your platform.\n",
    "print(\"Maximum achieved: \", max(d['flops']), \"GFlops/sec.\")\n",
    "print(\"FLOPS Utilization:\", max(d['flops'])*100/peak, \"%\")"
   ]
  },
  {
   "cell_type": "code",
   "execution_count": null,
   "metadata": {},
   "outputs": [],
   "source": []
  }
 ],
 "metadata": {
  "kernelspec": {
   "display_name": "Python 2",
   "language": "python",
   "name": "python2"
  },
  "language_info": {
   "codemirror_mode": {
    "name": "ipython",
    "version": 3
   },
   "file_extension": ".py",
   "mimetype": "text/x-python",
   "name": "python",
   "nbconvert_exporter": "python",
   "pygments_lexer": "ipython3",
   "version": "3.7.6"
  }
 },
 "nbformat": 4,
 "nbformat_minor": 2
}
